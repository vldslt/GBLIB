{
  "nbformat": 4,
  "nbformat_minor": 0,
  "metadata": {
    "colab": {
      "name": "dz1.ipynb",
      "provenance": [],
      "collapsed_sections": []
    },
    "kernelspec": {
      "name": "python3",
      "display_name": "Python 3"
    },
    "language_info": {
      "name": "python"
    }
  },
  "cells": [
    {
      "cell_type": "code",
      "metadata": {
        "id": "DmUVVCIXpy_4"
      },
      "source": [
        "import numpy as np"
      ],
      "execution_count": 9,
      "outputs": []
    },
    {
      "cell_type": "markdown",
      "metadata": {
        "id": "Q0MqYnkLp-FE"
      },
      "source": [
        "Импортируйте библиотеку Numpy и дайте ей псевдоним np.\n",
        "Создайте массив Numpy под названием a размером 5x2, то есть состоящий из 5 строк и 2 столбцов. Первый столбец должен содержать числа 1, 2, 3, 3, 1, а второй - числа 6, 8, 11, 10, 7. Будем считать, что каждый столбец - это признак, а строка - наблюдение. Затем найдите среднее значение по каждому признаку, используя метод mean массива Numpy. Результат запишите в массив mean_a, в нем должно быть 2 элемента.\n",
        "\n",
        "\n",
        "\n"
      ]
    },
    {
      "cell_type": "code",
      "metadata": {
        "colab": {
          "base_uri": "https://localhost:8080/"
        },
        "id": "ZaIbSWK_qHh3",
        "outputId": "dab72671-a786-4d4a-a55a-22345dceb527"
      },
      "source": [
        "a = np.array([[1,6],[2,8],[3,11],[3,10],[1,7]])\n",
        "mean_a = np.array([a.mean(axis=0)])\n",
        "print(mean_a)"
      ],
      "execution_count": null,
      "outputs": [
        {
          "output_type": "stream",
          "text": [
            "[[2.  8.4]]\n"
          ],
          "name": "stdout"
        }
      ]
    },
    {
      "cell_type": "markdown",
      "metadata": {
        "id": "jCSi39IXqD1V"
      },
      "source": [
        "Вычислите массив a_centered, отняв от значений массива “а” средние значения соответствующих признаков, содержащиеся в массиве mean_a. Вычисление должно производиться в одно действие. Получившийся массив должен иметь размер 5x2."
      ]
    },
    {
      "cell_type": "code",
      "metadata": {
        "id": "-KuO8BOIyYfz"
      },
      "source": [
        ""
      ],
      "execution_count": null,
      "outputs": []
    },
    {
      "cell_type": "code",
      "metadata": {
        "colab": {
          "base_uri": "https://localhost:8080/"
        },
        "id": "kSDfLVz4rsri",
        "outputId": "051f1947-822e-405e-8add-0d9b7638d908"
      },
      "source": [
        "a_centered = a - mean_a\n",
        "print(a_centered)"
      ],
      "execution_count": null,
      "outputs": [
        {
          "output_type": "stream",
          "text": [
            "[[-1.  -2.4]\n",
            " [ 0.  -0.4]\n",
            " [ 1.   2.6]\n",
            " [ 1.   1.6]\n",
            " [-1.  -1.4]]\n"
          ],
          "name": "stdout"
        }
      ]
    },
    {
      "cell_type": "markdown",
      "metadata": {
        "id": "YaCgBV5_t_tx"
      },
      "source": [
        "Найдите скалярное произведение столбцов массива a_centered. В результате должна получиться величина a_centered_sp. Затем поделите a_centered_sp на N-1, где N - число наблюдений."
      ]
    },
    {
      "cell_type": "code",
      "metadata": {
        "colab": {
          "base_uri": "https://localhost:8080/"
        },
        "id": "tcQEsy43yW0X",
        "outputId": "63208510-66f4-4013-dcbe-5fed1c86bd3e"
      },
      "source": [
        "a_centered_sp = a_centered.T[0] @ a_centered.T[1]\n",
        "print(a_centered_sp)"
      ],
      "execution_count": null,
      "outputs": [
        {
          "output_type": "stream",
          "text": [
            "8.0\n"
          ],
          "name": "stdout"
        }
      ]
    },
    {
      "cell_type": "code",
      "metadata": {
        "colab": {
          "base_uri": "https://localhost:8080/"
        },
        "id": "22JTNFSpuDKU",
        "outputId": "7a4dbf7f-dbda-4f7d-f3a8-2aaf81d95cad"
      },
      "source": [
        "a_centered_sp / (a_centered.shape[0] - 1)"
      ],
      "execution_count": null,
      "outputs": [
        {
          "output_type": "execute_result",
          "data": {
            "text/plain": [
              "2.0"
            ]
          },
          "metadata": {
            "tags": []
          },
          "execution_count": 20
        }
      ]
    },
    {
      "cell_type": "markdown",
      "metadata": {
        "id": "mIUIkDtoyygM"
      },
      "source": [
        "Число, которое мы получили в конце задания 3 является ковариацией двух признаков, содержащихся в массиве “а”. В задании 4 мы делили сумму произведений центрированных признаков на N-1, а не на N, поэтому полученная нами величина является несмещенной оценкой ковариации.\n",
        "\n",
        "В этом задании проверьте получившееся число, вычислив ковариацию еще одним способом - с помощью функции np.cov. В качестве аргумента m функция np.cov должна принимать транспонированный массив “a”. В получившейся ковариационной матрице (массив Numpy размером 2x2) искомое значение ковариации будет равно элементу в строке с индексом 0 и столбце с индексом 1.\n"
      ]
    },
    {
      "cell_type": "code",
      "metadata": {
        "colab": {
          "base_uri": "https://localhost:8080/"
        },
        "id": "cTM2Q5rizTIT",
        "outputId": "fb41c0a0-52a3-4bdb-a938-fe9a21a15e0a"
      },
      "source": [
        "np.cov(a.T)[0, 1]"
      ],
      "execution_count": null,
      "outputs": [
        {
          "output_type": "execute_result",
          "data": {
            "text/plain": [
              "2.0"
            ]
          },
          "metadata": {
            "tags": []
          },
          "execution_count": 21
        }
      ]
    },
    {
      "cell_type": "markdown",
      "metadata": {
        "id": "hv6DhIbVaufK"
      },
      "source": [
        "Импортируйте библиотеку Pandas и дайте ей псевдоним pd. Создайте датафрейм authors со столбцами author_id и author_name, в которых соответственно содержатся данные: [1, 2, 3] и ['Тургенев', 'Чехов', 'Островский'].\n",
        "Затем создайте датафрейм book cо столбцами author_id, book_title и price, в которых соответственно содержатся данные:  \n",
        "[1, 1, 1, 2, 2, 3, 3],\n",
        "['Отцы и дети', 'Рудин', 'Дворянское гнездо', 'Толстый и тонкий', 'Дама с собачкой', 'Гроза', 'Таланты и поклонники'],\n",
        "[450, 300, 350, 500, 450, 370, 290].\n"
      ]
    },
    {
      "cell_type": "code",
      "metadata": {
        "id": "mA_ABc40ciLY"
      },
      "source": [
        "import pandas as pd"
      ],
      "execution_count": 10,
      "outputs": []
    },
    {
      "cell_type": "code",
      "metadata": {
        "colab": {
          "base_uri": "https://localhost:8080/"
        },
        "id": "UPAVCncOa5sJ",
        "outputId": "a893d48b-ef49-4c7f-807b-acc466d8ebdf"
      },
      "source": [
        "authors = pd.DataFrame({'author_id':[1, 2, 3],'author_name':['Тургенев', 'Чехов', 'Островский']},columns = ['author_id','author_name'])\n",
        "print(authors)"
      ],
      "execution_count": 20,
      "outputs": [
        {
          "output_type": "stream",
          "text": [
            "   author_id author_name\n",
            "0          1    Тургенев\n",
            "1          2       Чехов\n",
            "2          3  Островский\n"
          ],
          "name": "stdout"
        }
      ]
    },
    {
      "cell_type": "code",
      "metadata": {
        "colab": {
          "base_uri": "https://localhost:8080/"
        },
        "id": "uzKis4RNcajw",
        "outputId": "b566af76-e57e-4f9c-e12c-45c85096a197"
      },
      "source": [
        "book = pd.DataFrame({'author_id':[1, 1, 1, 2, 2, 3, 3],\n",
        "                     'book_title': ['Отцы и дети', 'Рудин', 'Дворянское гнездо', 'Толстый и тонкий', 'Дама с собачкой', 'Гроза', 'Таланты и поклонники'], \n",
        "                     'price' : [450, 300, 350, 500, 450, 370, 290]}, \n",
        "                    columns=['author_id', 'book_title', 'price'])\n",
        "print(book)"
      ],
      "execution_count": 21,
      "outputs": [
        {
          "output_type": "stream",
          "text": [
            "   author_id            book_title  price\n",
            "0          1           Отцы и дети    450\n",
            "1          1                 Рудин    300\n",
            "2          1     Дворянское гнездо    350\n",
            "3          2      Толстый и тонкий    500\n",
            "4          2       Дама с собачкой    450\n",
            "5          3                 Гроза    370\n",
            "6          3  Таланты и поклонники    290\n"
          ],
          "name": "stdout"
        }
      ]
    },
    {
      "cell_type": "markdown",
      "metadata": {
        "id": "tvrqy2dDebIx"
      },
      "source": [
        "Получите датафрейм authors_price, соединив датафреймы authors и books по полю author_id."
      ]
    },
    {
      "cell_type": "code",
      "metadata": {
        "colab": {
          "base_uri": "https://localhost:8080/"
        },
        "id": "yLBjqErtedIx",
        "outputId": "b21c0992-c5b3-46a8-fbc6-0eb5d25d267b"
      },
      "source": [
        "authors_price = pd.merge(authors,book, on = 'author_id', how = 'outer')\n",
        "print(authors_price)"
      ],
      "execution_count": 19,
      "outputs": [
        {
          "output_type": "stream",
          "text": [
            "   author_id author_name            book_title  price\n",
            "0          1    Тургенев           Отцы и дети    450\n",
            "1          1    Тургенев                 Рудин    300\n",
            "2          1    Тургенев     Дворянское гнездо    350\n",
            "3          2       Чехов      Толстый и тонкий    500\n",
            "4          2       Чехов       Дама с собачкой    450\n",
            "5          3  Островский                 Гроза    370\n",
            "6          3  Островский  Таланты и поклонники    290\n"
          ],
          "name": "stdout"
        }
      ]
    },
    {
      "cell_type": "markdown",
      "metadata": {
        "id": "8SiUnZn6fcQt"
      },
      "source": [
        "Создайте датафрейм top5, в котором содержатся строки из authors_price с пятью самыми дорогими книгами."
      ]
    },
    {
      "cell_type": "code",
      "metadata": {
        "colab": {
          "base_uri": "https://localhost:8080/"
        },
        "id": "fnB_ZGhmfXpL",
        "outputId": "393b806a-207e-496e-e281-95e9863b8c2f"
      },
      "source": [
        "top5 = authors_price.nlargest(5, 'price')\n",
        "print(top5)"
      ],
      "execution_count": 22,
      "outputs": [
        {
          "output_type": "stream",
          "text": [
            "   author_id author_name         book_title  price\n",
            "3          2       Чехов   Толстый и тонкий    500\n",
            "0          1    Тургенев        Отцы и дети    450\n",
            "4          2       Чехов    Дама с собачкой    450\n",
            "5          3  Островский              Гроза    370\n",
            "2          1    Тургенев  Дворянское гнездо    350\n"
          ],
          "name": "stdout"
        }
      ]
    },
    {
      "cell_type": "markdown",
      "metadata": {
        "id": "ZCT1kyJggNrW"
      },
      "source": [
        "Создайте датафрейм authors_stat на основе информации из authors_price. В датафрейме authors_stat должны быть четыре столбца:\n",
        "author_name, min_price, max_price и mean_price,\n",
        "в которых должны содержаться соответственно имя автора, минимальная, максимальная и средняя цена на книги этого автора.\n"
      ]
    },
    {
      "cell_type": "code",
      "metadata": {
        "colab": {
          "base_uri": "https://localhost:8080/"
        },
        "id": "crF2x3tdgnNS",
        "outputId": "e72b2d99-dee9-419e-ac73-a79e1db1afe5"
      },
      "source": [
        "authors_stat = authors_price.groupby('author_name').agg({'price':['min', 'max', 'mean']})\n",
        "authors_stat = authors_stat.rename(columns={'min':'min_price', 'max':'max_price', 'mean':'mean_price'})\n",
        "print(authors_stat)"
      ],
      "execution_count": 26,
      "outputs": [
        {
          "output_type": "stream",
          "text": [
            "                price                      \n",
            "            min_price max_price  mean_price\n",
            "author_name                                \n",
            "Островский        290       370  330.000000\n",
            "Тургенев          300       450  366.666667\n",
            "Чехов             450       500  475.000000\n"
          ],
          "name": "stdout"
        }
      ]
    }
  ]
}